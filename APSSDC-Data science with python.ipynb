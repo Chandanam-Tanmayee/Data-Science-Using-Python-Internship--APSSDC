{
 "cells": [
  {
   "cell_type": "code",
   "execution_count": 2,
   "metadata": {},
   "outputs": [
    {
     "name": "stdout",
     "output_type": "stream",
     "text": [
      "3.67\n",
      "3.67 <class 'float'>\n"
     ]
    }
   ],
   "source": [
    "a=float(input())\n",
    "print(a,type(a))"
   ]
  },
  {
   "cell_type": "markdown",
   "metadata": {},
   "source": [
    "### Number System\n"
   ]
  },
  {
   "cell_type": "code",
   "execution_count": 3,
   "metadata": {},
   "outputs": [
    {
     "name": "stdout",
     "output_type": "stream",
     "text": [
      "0b110111 0o67 0x37\n"
     ]
    }
   ],
   "source": [
    "a=55\n",
    "print(bin(a),oct(a),hex(a))"
   ]
  },
  {
   "cell_type": "code",
   "execution_count": 5,
   "metadata": {},
   "outputs": [
    {
     "name": "stdout",
     "output_type": "stream",
     "text": [
      "55 55 55\n"
     ]
    }
   ],
   "source": [
    "print(int('110111', 2),int('67',8), int('37',16))"
   ]
  },
  {
   "cell_type": "code",
   "execution_count": 6,
   "metadata": {},
   "outputs": [
    {
     "name": "stdout",
     "output_type": "stream",
     "text": [
      "97\n"
     ]
    }
   ],
   "source": [
    "print(ord('a'))"
   ]
  },
  {
   "cell_type": "code",
   "execution_count": 7,
   "metadata": {},
   "outputs": [
    {
     "name": "stdout",
     "output_type": "stream",
     "text": [
      "a\n"
     ]
    }
   ],
   "source": [
    "print(chr(97))"
   ]
  },
  {
   "cell_type": "markdown",
   "metadata": {},
   "source": [
    "\n",
    "### operators in python\n",
    "\n",
    "- Arthematic -> +,-,*,/,%,//,**\n",
    "- Logical -> and,or,not\n",
    "- Comparision/relational -> <,>,<=,.=,==,!=\n",
    "- Bitwise Operator -> &,|,~,^(XOR),>>(right shift),<<(left shift)\n",
    "- Assignment operators => +=,-+,/+,%=,//+,**=\n",
    "- Identity operators-> is, not is\n",
    "- Membership operators -> in,not in\n",
    "\n"
   ]
  },
  {
   "cell_type": "code",
   "execution_count": 10,
   "metadata": {},
   "outputs": [
    {
     "name": "stdout",
     "output_type": "stream",
     "text": [
      "14 -6 40 0.4 4 0 16->"
     ]
    }
   ],
   "source": [
    "#arthematic\n",
    "a=4\n",
    "b=10\n",
    "print(a+b ,a-b ,a*b ,a/b ,a%b ,a//b ,a**2 ,end='->')"
   ]
  },
  {
   "cell_type": "markdown",
   "metadata": {},
   "source": [
    "#logical\n",
    "### -and(inp 1* inpt 2)\n",
    "\n",
    "|inp1| inp2|inp1 and inp2|\n",
    "|----|----|----|\n",
    "|T|T|T|\n",
    "|T|F|F|\n",
    "|F|T|F|\n",
    "|F|F|F|\n",
    "\n",
    "## or\n",
    "|inp1| inp2|inp1 and inp2|\n",
    "|----|----|----|\n",
    "|T|T|T|\n",
    "|T|F|T|\n",
    "|F|T|T|\n",
    "|F|F|F|\n",
    "\n",
    "## not\n",
    "|inp1| inp2|\n",
    "|----|----|\n",
    "|T|F|\n",
    "|F|T|\n",
    "\n",
    "\n"
   ]
  },
  {
   "cell_type": "code",
   "execution_count": 16,
   "metadata": {},
   "outputs": [
    {
     "name": "stdout",
     "output_type": "stream",
     "text": [
      "0->1->False->0->False\n"
     ]
    }
   ],
   "source": [
    "a=1\n",
    "b=0\n",
    "c='0'\n",
    "print(a and b,a or b,not a,a and c,not c, sep = '->')"
   ]
  },
  {
   "cell_type": "code",
   "execution_count": 17,
   "metadata": {},
   "outputs": [
    {
     "name": "stdout",
     "output_type": "stream",
     "text": [
      "1 1\n"
     ]
    }
   ],
   "source": [
    "print(c and a,a or c)"
   ]
  },
  {
   "cell_type": "code",
   "execution_count": 18,
   "metadata": {},
   "outputs": [
    {
     "name": "stdout",
     "output_type": "stream",
     "text": [
      "6\n"
     ]
    }
   ],
   "source": [
    "a=5\n",
    "b=6\n",
    "c=0\n",
    "print(a and b)"
   ]
  },
  {
   "cell_type": "code",
   "execution_count": 19,
   "metadata": {},
   "outputs": [
    {
     "name": "stdout",
     "output_type": "stream",
     "text": [
      "0 0\n"
     ]
    }
   ],
   "source": [
    "print(a and c,c and a)"
   ]
  },
  {
   "cell_type": "code",
   "execution_count": 20,
   "metadata": {},
   "outputs": [
    {
     "name": "stdout",
     "output_type": "stream",
     "text": [
      "True False False\n"
     ]
    }
   ],
   "source": [
    "a=5\n",
    "b=6\n",
    "print(a<b,a>b,a==b)"
   ]
  },
  {
   "cell_type": "markdown",
   "metadata": {},
   "source": [
    "### Conditional statements\n",
    "controlling the flow of execution\n",
    "\n",
    "### syntax\n",
    "- if\n",
    "``` python\n",
    "\n",
    "if condition:\n",
    "        Block of Code\n",
    "```\n",
    "\n",
    "```python\n",
    "if condition:\n",
    "    Block of Code\n",
    "- if-else  \n",
    "elif condition:\n",
    "    Block of Code\n",
    "- else   \n",
    "else:\n",
    "    block of code\n",
    " ```\n"
   ]
  },
  {
   "cell_type": "markdown",
   "metadata": {},
   "source": [
    "- Biggest of 2 number"
   ]
  },
  {
   "cell_type": "code",
   "execution_count": 4,
   "metadata": {},
   "outputs": [
    {
     "name": "stdout",
     "output_type": "stream",
     "text": [
      "15\n"
     ]
    }
   ],
   "source": [
    "a=5\n",
    "b=15\n",
    "c=8\n",
    "\n",
    "if a>b and a>c:\n",
    "    print(a)  # \"is the biggest number\")\n",
    "elif b>c:\n",
    "    print(b) # \"b is the biggest number\")\n",
    "else:\n",
    "    print(c)"
   ]
  },
  {
   "cell_type": "markdown",
   "metadata": {},
   "source": [
    "- check input number is even or not"
   ]
  },
  {
   "cell_type": "code",
   "execution_count": 6,
   "metadata": {},
   "outputs": [
    {
     "name": "stdout",
     "output_type": "stream",
     "text": [
      "enter a number:9\n",
      "9 is odd number\n"
     ]
    }
   ],
   "source": [
    "n=int(input(\"enter a number:\"))\n",
    "if n%2==0:\n",
    "    print(n, \"is even number\")\n",
    "else:\n",
    "    print(n,\"is odd number\")"
   ]
  },
  {
   "cell_type": "markdown",
   "metadata": {},
   "source": [
    "- verify given year is a leap year\n",
    "- It should by 4 and rem as 0\n",
    "- It shouldn't be divisible by 100\n",
    "- divisible by 400"
   ]
  },
  {
   "cell_type": "code",
   "execution_count": 8,
   "metadata": {},
   "outputs": [
    {
     "name": "stdout",
     "output_type": "stream",
     "text": [
      "enter a year:2020\n",
      "2020 is a leap year\n"
     ]
    }
   ],
   "source": [
    "year=int(input(\"enter a year:\"))\n",
    "\n",
    "if (year%400==0) or (year % 4==0 and year%100!=0):\n",
    "    print(year,\"is a leap year\")\n",
    "else:\n",
    "    print(year,\"is not a leap year\")"
   ]
  },
  {
   "cell_type": "markdown",
   "metadata": {},
   "source": [
    "Calculater application\n",
    "- 2 inputs\n",
    "- arthematic operation "
   ]
  },
  {
   "cell_type": "code",
   "execution_count": 11,
   "metadata": {},
   "outputs": [
    {
     "name": "stdout",
     "output_type": "stream",
     "text": [
      "Enter a number:445\n",
      "Enter a number:234\n",
      "What is the arthmatic I need to perform:  +\n",
      "679\n",
      "679\n",
      "211\n",
      "104130\n"
     ]
    }
   ],
   "source": [
    "a=int(input(\"Enter a number:\"))\n",
    "b=int(input(\"Enter a number:\"))\n",
    "arth=input(\"What is the arthmatic I need to perform:  \")\n",
    "\n",
    "if arth=='+':\n",
    "    print(a+b)\n",
    "elif arth=='-':\n",
    "    print(a-b)\n",
    "elif arth=='*':\n",
    "    print(a*b)\n",
    "else:\n",
    "    print(\"given arthematic operation is invalid\")\n",
    "print(a+b)\n",
    "print(a-b)\n",
    "print(a*b)"
   ]
  },
  {
   "cell_type": "markdown",
   "metadata": {},
   "source": [
    "#### Loops in python\n",
    "execute the block of code for multiple times\n",
    "\n",
    "- Initialization\n",
    "- Condition\n",
    "- inc/dec\n",
    "\n",
    "\n",
    "### Syntax\n",
    "- for loop ->How many times I need to execute the loop\n",
    "\n",
    "```python\n",
    "for IterativeVariable in SeqOfData:\n",
    "    Block of Code\n",
    "```\n",
    "- While Loop ->Based on the condition\n",
    "```python\n",
    "\n",
    "init\n",
    "while condition:\n",
    "    Block of Code\n",
    "    inc/dec\n",
    "```\n",
    "\n",
    "## GroupOfNumber\n",
    "range(intia,cond,inc/dec)\n",
    "range(start,stop,step)\n",
    "\n",
    "condition-> required arg\n",
    "init-> 0\n",
    "inc/dec-> +1\n",
    "\n",
    "\n",
    "\n"
   ]
  },
  {
   "cell_type": "code",
   "execution_count": 14,
   "metadata": {},
   "outputs": [
    {
     "name": "stdout",
     "output_type": "stream",
     "text": [
      "1\t2\t3\t4\t5\t6\t7\t8\t9\t10\t11\t12\t13\t14\t15\t16\t17\t18\t19\t20\t21\t22\t23\t24\t25\t26\t27\t28\t29\t30\t31\t32\t33\t34\t35\t36\t37\t38\t39\t40\t41\t42\t43\t44\t45\t46\t47\t48\t49\t50\t51\t52\t53\t54\t55\t56\t57\t58\t59\t60\t61\t62\t63\t64\t65\t66\t67\t68\t69\t70\t71\t72\t73\t74\t75\t76\t77\t78\t79\t80\t81\t82\t83\t84\t85\t86\t87\t88\t89\t90\t91\t92\t93\t94\t95\t96\t97\t98\t99\t100\t"
     ]
    }
   ],
   "source": [
    "#display 1 to 100 numbers to the users\n",
    "for i in range(1,101):\n",
    "    print(i,end='\\t')"
   ]
  },
  {
   "cell_type": "code",
   "execution_count": 15,
   "metadata": {},
   "outputs": [
    {
     "name": "stdout",
     "output_type": "stream",
     "text": [
      "1\t4\t7\t10\t13\t16\t19\t22\t25\t28\t31\t34\t37\t40\t43\t46\t49\t52\t55\t58\t61\t64\t67\t70\t73\t76\t79\t82\t85\t88\t91\t94\t97\t100\t"
     ]
    }
   ],
   "source": [
    "#display 1 to 100 numbers to the users\n",
    "for i in range(1,101,3):\n",
    "    print(i,end='\\t')"
   ]
  },
  {
   "cell_type": "code",
   "execution_count": 28,
   "metadata": {},
   "outputs": [
    {
     "name": "stdout",
     "output_type": "stream",
     "text": [
      "2\t4\t6\t8\t10\t12\t14\t16\t18\t20\t22\t24\t26\t28\t30\t32\t34\t36\t38\t40\t42\t44\t46\t48\t50\t52\t54\t56\t58\t60\t62\t64\t66\t68\t70\t72\t74\t76\t78\t80\t82\t84\t86\t88\t90\t92\t94\t96\t98\t100\t102\t104\t106\t108\t110\t112\t114\t116\t118\t120\t122\t124\t126\t128\t130\t132\t134\t136\t138\t140\t142\t144\t146\t148\t150\t152\t154\t156\t158\t160\t162\t164\t166\t168\t170\t172\t174\t176\t178\t180\t182\t184\t186\t188\t190\t192\t194\t196\t198\t200\t202\t204\t206\t208\t210\t212\t214\t216\t218\t220\t222\t224\t226\t228\t230\t232\t234\t236\t238\t240\t242\t244\t246\t248\t250\t252\t254\t256\t258\t260\t262\t264\t266\t268\t270\t272\t274\t276\t278\t280\t282\t284\t286\t288\t290\t292\t294\t296\t298\t300\t302\t304\t306\t308\t310\t312\t314\t316\t318\t320\t322\t324\t326\t328\t330\t332\t334\t336\t338\t340\t342\t344\t346\t348\t350\t352\t354\t356\t358\t360\t362\t364\t366\t368\t370\t372\t374\t376\t378\t380\t382\t384\t386\t388\t390\t392\t394\t396\t398\t400\t402\t404\t406\t408\t410\t412\t414\t416\t418\t420\t422\t424\t426\t428\t430\t432\t434\t436\t438\t440\t442\t444\t446\t448\t450\t452\t454\t456\t458\t460\t462\t464\t466\t468\t470\t472\t474\t476\t478\t480\t482\t484\t486\t488\t490\t492\t494\t496\t498\t500\t502\t504\t506\t508\t510\t512\t514\t516\t518\t520\t522\t524\t526\t528\t530\t532\t534\t536\t538\t540\t542\t544\t546\t548\t550\t552\t554\t556\t558\t560\t562\t564\t566\t568\t570\t572\t574\t576\t578\t580\t582\t584\t586\t588\t590\t592\t594\t596\t598\t600\t602\t604\t606\t608\t610\t612\t614\t616\t618\t620\t622\t624\t626\t628\t630\t632\t634\t636\t638\t640\t642\t644\t646\t648\t650\t652\t654\t656\t658\t660\t662\t664\t666\t668\t670\t672\t674\t676\t678\t680\t682\t684\t686\t688\t690\t692\t694\t696\t698\t700\t702\t704\t706\t708\t710\t712\t714\t716\t718\t720\t722\t724\t726\t728\t730\t732\t734\t736\t738\t740\t742\t744\t746\t748\t750\t752\t754\t756\t758\t760\t762\t764\t766\t768\t770\t772\t774\t776\t778\t780\t782\t784\t786\t788\t790\t792\t794\t796\t798\t800\t802\t804\t806\t808\t810\t812\t814\t816\t818\t820\t822\t824\t826\t828\t830\t832\t834\t836\t838\t840\t842\t844\t846\t848\t850\t852\t854\t856\t858\t860\t862\t864\t866\t868\t870\t872\t874\t876\t878\t880\t882\t884\t886\t888\t890\t892\t894\t896\t898\t900\t902\t904\t906\t908\t910\t912\t914\t916\t918\t920\t922\t924\t926\t928\t930\t932\t934\t936\t938\t940\t942\t944\t946\t948\t950\t952\t954\t956\t958\t960\t962\t964\t966\t968\t970\t972\t974\t976\t978\t980\t982\t984\t986\t988\t990\t992\t994\t996\t998\t1000\t"
     ]
    }
   ],
   "source": [
    "#even numbers between 1 to 1000\n",
    "for i in range(1,1001):\n",
    "    if i%2==0:\n",
    "        print(i,end='\\t')"
   ]
  },
  {
   "cell_type": "markdown",
   "metadata": {},
   "source": [
    "1. Get the leap year between the given range\n",
    "- Starting range ending range is given as input\n",
    "2. get the prime numbers between the given range\n",
    "3. get n  number of Fibonacci number"
   ]
  },
  {
   "cell_type": "markdown",
   "metadata": {},
   "source": [
    "### While loop"
   ]
  },
  {
   "cell_type": "code",
   "execution_count": 29,
   "metadata": {},
   "outputs": [
    {
     "name": "stdout",
     "output_type": "stream",
     "text": [
      "1\t2\t3\t4\t5\t6\t7\t8\t9\t10\t11\t12\t13\t14\t15\t16\t17\t18\t19\t20\t21\t22\t23\t24\t25\t26\t27\t28\t29\t30\t31\t32\t33\t34\t35\t36\t37\t38\t39\t40\t41\t42\t43\t44\t45\t46\t47\t48\t49\t50\t51\t52\t53\t54\t55\t56\t57\t58\t59\t60\t61\t62\t63\t64\t65\t66\t67\t68\t69\t70\t71\t72\t73\t74\t75\t76\t77\t78\t79\t80\t81\t82\t83\t84\t85\t86\t87\t88\t89\t90\t91\t92\t93\t94\t95\t96\t97\t98\t99\t100\t"
     ]
    }
   ],
   "source": [
    "i=1\n",
    "while i<101:\n",
    "    print(i,end='\\t')\n",
    "    i+=1"
   ]
  },
  {
   "cell_type": "markdown",
   "metadata": {},
   "source": [
    "- break: to terminate the execution of the loop\n",
    "- continue: skin the current execution of the loop"
   ]
  },
  {
   "cell_type": "markdown",
   "metadata": {},
   "source": [
    "print the numbers between 1 to 100 whenever I reached 50 stop travelling"
   ]
  },
  {
   "cell_type": "code",
   "execution_count": 39,
   "metadata": {},
   "outputs": [
    {
     "name": "stdout",
     "output_type": "stream",
     "text": [
      "1\t2\t3\t4\t5\t6\t7\t8\t9\t10\t11\t12\t13\t14\t15\t16\t17\t18\t19\t20\t21\t22\t23\t24\t25\t26\t27\t28\t29\t30\t31\t32\t33\t34\t35\t36\t37\t38\t39\t40\t41\t42\t43\t44\t45\t46\t47\t48\t49\t"
     ]
    }
   ],
   "source": [
    "for travel in range(1,101,1):\n",
    "    if travel == 50:\n",
    "        break\n",
    "    print(travel, end='\\t')"
   ]
  },
  {
   "cell_type": "code",
   "execution_count": 40,
   "metadata": {},
   "outputs": [
    {
     "name": "stdout",
     "output_type": "stream",
     "text": [
      "jdch\n",
      "jdch\n",
      "adce\n",
      "adce\n",
      "cancel\n",
      "Loop Terminated\n"
     ]
    }
   ],
   "source": [
    "\n",
    "while True:\n",
    "    inp=input()\n",
    "    if inp=='cancel':\n",
    "        print(\"Loop Terminated\")\n",
    "        break\n",
    "    print(inp)\n"
   ]
  },
  {
   "cell_type": "markdown",
   "metadata": {},
   "source": [
    "### Strings\n",
    "it is group of data enclosed between \"\",'',\"\"\"\"\",''''''\n",
    "\n",
    "### Properties of strings\n",
    "- It is immutable data type\n",
    "- It is iterable\n"
   ]
  },
  {
   "cell_type": "code",
   "execution_count": 46,
   "metadata": {},
   "outputs": [
    {
     "name": "stdout",
     "output_type": "stream",
     "text": [
      "<class 'str'> <class 'str'>\n",
      "I\t \ta\tm\t\n",
      "\ta\t\n",
      "\tm\tu\tl\tt\ti\tp\tl\te\t\n",
      "\tl\ti\tn\te\t \t\n",
      "\ts\tt\tr\ti\tn\tg\t"
     ]
    }
   ],
   "source": [
    "s='I am a single line string'\n",
    "s2=\"I'm also a string\"\n",
    "s3='''I am\n",
    "a\n",
    "multiple\n",
    "line \n",
    "string'''\n",
    "s4=\"\"\"I am\n",
    "a\n",
    "multiple\n",
    "line \n",
    "string\"\"\"\n",
    "print(type(s),type(s3))\n",
    "for char in s3:\n",
    "    print(char,end= '\\t')\n"
   ]
  },
  {
   "cell_type": "code",
   "execution_count": 47,
   "metadata": {},
   "outputs": [
    {
     "name": "stdout",
     "output_type": "stream",
     "text": [
      "I\t \ta\tm\t\n",
      "\ta\t\n",
      "\tm\tu\tl\tt\ti\tp\tl\te\t\n",
      "\tl\ti\tn\te\t \t\n",
      "\ts\tt\tr\ti\tn\tg\t"
     ]
    }
   ],
   "source": [
    "for char in s3:\n",
    "    print(char,end='\\t')"
   ]
  },
  {
   "cell_type": "code",
   "execution_count": 48,
   "metadata": {},
   "outputs": [
    {
     "name": "stdout",
     "output_type": "stream",
     "text": [
      "Leap days keep our modern-day Gregorian calendar in alignment with Earth's revolutions around the Sun. It takes Earth approximately 365.242189 days, or 365 days, 5 hours, 48 minutes, and 45 seconds, to circle once around the Sun. This is called a tropical year, and it starts on the March equinox.\n",
      "\n",
      "However, the Gregorian calendar has only 365 days in a year. If we didn't add a leap day on February 29 almost every four years, each calendar year would begin about 6 hours before the Earth completes its revolution around the Sun (see illustration).\n",
      "\n"
     ]
    }
   ],
   "source": [
    "s1=\"\"\"Leap days keep our modern-day Gregorian calendar in alignment with Earth's revolutions around the Sun. It takes Earth approximately 365.242189 days, or 365 days, 5 hours, 48 minutes, and 45 seconds, to circle once around the Sun. This is called a tropical year, and it starts on the March equinox.\n",
    "\n",
    "However, the Gregorian calendar has only 365 days in a year. If we didn't add a leap day on February 29 almost every four years, each calendar year would begin about 6 hours before the Earth completes its revolution around the Sun (see illustration).\n",
    "\"\"\"\n",
    "print(s1)"
   ]
  },
  {
   "cell_type": "code",
   "execution_count": 57,
   "metadata": {},
   "outputs": [
    {
     "name": "stdout",
     "output_type": "stream",
     "text": [
      "L\te\ta\tp\t \td\ta\ty\ts\t \tk\te\te\tp\t \to\tu\tr\t \tm\to\td\te\tr\tn\t-\td\ta\ty\t \tG\tr\te\tg\to\tr\ti\ta\tn\t \tc\ta\tl\te\tn\td\ta\tr\t \ti\tn\t \ta\tl\ti\tg\tn\tm\te\tn\tt\t \tw\ti\tt\th\t \tE\ta\tr\tt\th\t'\ts\t \tr\te\tv\to\tl\tu\tt\ti\to\tn\ts\t \ta\tr\to\tu\tn\td\t \tt\th\te\t \tS\tu\tn\t.\t \tI\tt\t \tt\ta\tk\te\ts\t \tE\ta\tr\tt\th\t \ta\tp\tp\tr\to\tx\ti\tm\ta\tt\te\tl\ty\t \t3\t6\t5\t.\t2\t4\t2\t1\t8\t9\t \td\ta\ty\ts\t,\t \to\tr\t \t3\t6\t5\t \td\ta\ty\ts\t,\t \t5\t \th\to\tu\tr\ts\t,\t \t4\t8\t \tm\ti\tn\tu\tt\te\ts\t,\t \ta\tn\td\t \t4\t5\t \ts\te\tc\to\tn\td\ts\t,\t \tt\to\t \tc\ti\tr\tc\tl\te\t \to\tn\tc\te\t \ta\tr\to\tu\tn\td\t \tt\th\te\t \tS\tu\tn\t.\t \tT\th\ti\ts\t \ti\ts\t \tc\ta\tl\tl\te\td\t \ta\t \tt\tr\to\tp\ti\tc\ta\tl\t \ty\te\ta\tr\t,\t \ta\tn\td\t \ti\tt\t \ts\tt\ta\tr\tt\ts\t \to\tn\t \tt\th\te\t \tM\ta\tr\tc\th\t \te\tq\tu\ti\tn\to\tx\t.\t\n",
      "\t\n",
      "\tH\to\tw\te\tv\te\tr\t,\t \tt\th\te\t \tG\tr\te\tg\to\tr\ti\ta\tn\t \tc\ta\tl\te\tn\td\ta\tr\t \th\ta\ts\t \to\tn\tl\ty\t \t3\t6\t5\t \td\ta\ty\ts\t \ti\tn\t \ta\t \ty\te\ta\tr\t.\t \tI\tf\t \tw\te\t \td\ti\td\tn\t'\tt\t \ta\td\td\t \ta\t \tl\te\ta\tp\t \td\ta\ty\t \to\tn\t \tF\te\tb\tr\tu\ta\tr\ty\t \t2\t9\t \ta\tl\tm\to\ts\tt\t \te\tv\te\tr\ty\t \tf\to\tu\tr\t \ty\te\ta\tr\ts\t,\t \te\ta\tc\th\t \tc\ta\tl\te\tn\td\ta\tr\t \ty\te\ta\tr\t \tw\to\tu\tl\td\t \tb\te\tg\ti\tn\t \ta\tb\to\tu\tt\t \t6\t \th\to\tu\tr\ts\t \tb\te\tf\to\tr\te\t \tt\th\te\t \tE\ta\tr\tt\th\t \tc\to\tm\tp\tl\te\tt\te\ts\t \ti\tt\ts\t \tr\te\tv\to\tl\tu\tt\ti\to\tn\t \ta\tr\to\tu\tn\td\t \tt\th\te\t \tS\tu\tn\t \t(\ts\te\te\t \ti\tl\tl\tu\ts\tt\tr\ta\tt\ti\to\tn\t)\t.\t\n",
      "\t"
     ]
    }
   ],
   "source": [
    "for char in s1:\n",
    "       print(char,end='\\t')"
   ]
  },
  {
   "cell_type": "code",
   "execution_count": 59,
   "metadata": {},
   "outputs": [
    {
     "ename": "SyntaxError",
     "evalue": "invalid syntax (<ipython-input-59-af407072f1d7>, line 2)",
     "output_type": "error",
     "traceback": [
      "\u001b[1;36m  File \u001b[1;32m\"<ipython-input-59-af407072f1d7>\"\u001b[1;36m, line \u001b[1;32m2\u001b[0m\n\u001b[1;33m    if char==='a' or char=='e' or char=='i' or char=='o' or char=='u':\u001b[0m\n\u001b[1;37m             ^\u001b[0m\n\u001b[1;31mSyntaxError\u001b[0m\u001b[1;31m:\u001b[0m invalid syntax\n"
     ]
    }
   ],
   "source": [
    "for char in s1:\n",
    "      if char==='a' or char=='e' or char=='i' or char=='o' or char=='u':\n",
    "            print(char,end='')\n",
    "                "
   ]
  },
  {
   "cell_type": "code",
   "execution_count": null,
   "metadata": {},
   "outputs": [],
   "source": [
    "\n",
    "lo=0\n",
    "uo=0\n",
    "c=0\n",
    "for char in s1:\n",
    "    if char in 'aeiou':\n",
    "        lp+=1\n",
    "elif char in 'AEIOU':\n",
    "    uo+=1\n",
    "else:\n",
    "    c+=1\n",
    "    "
   ]
  },
  {
   "cell_type": "markdown",
   "metadata": {},
   "source": [
    "### accessing the characters from the string\n",
    "\n",
    "- Indexing\n",
    "  - +ve/Forward \n",
    "  - -ve/Reverse\n",
    "- slicing\n",
    "   - +ve/Forward \n",
    "  - -ve/Reverse"
   ]
  },
  {
   "cell_type": "code",
   "execution_count": 60,
   "metadata": {},
   "outputs": [
    {
     "name": "stdout",
     "output_type": "stream",
     "text": [
      "Leap days keep our modern-day Gregorian calendar in alignment with Earth's revolutions around the Sun. It takes Earth approximately 365.242189 days, or 365 days, 5 hours, 48 minutes, and 45 seconds, to circle once around the Sun. This is called a tropical year, and it starts on the March equinox.\n",
      "\n",
      "However, the Gregorian calendar has only 365 days in a year. If we didn't add a leap day on February 29 almost every four years, each calendar year would begin about 6 hours before the Earth completes its revolution around the Sun (see illustration).\n",
      "\n"
     ]
    }
   ],
   "source": [
    "print(s1)"
   ]
  },
  {
   "cell_type": "code",
   "execution_count": 1,
   "metadata": {},
   "outputs": [
    {
     "ename": "NameError",
     "evalue": "name 's1' is not defined",
     "output_type": "error",
     "traceback": [
      "\u001b[1;31m---------------------------------------------------------------------------\u001b[0m",
      "\u001b[1;31mNameError\u001b[0m                                 Traceback (most recent call last)",
      "\u001b[1;32m<ipython-input-1-5d8f9dd5b101>\u001b[0m in \u001b[0;36m<module>\u001b[1;34m\u001b[0m\n\u001b[1;32m----> 1\u001b[1;33m \u001b[0mprint\u001b[0m\u001b[1;33m(\u001b[0m\u001b[0ms1\u001b[0m\u001b[1;33m[\u001b[0m\u001b[1;36m0\u001b[0m\u001b[1;33m]\u001b[0m\u001b[1;33m,\u001b[0m\u001b[0ms1\u001b[0m\u001b[1;33m[\u001b[0m\u001b[1;36m4\u001b[0m\u001b[1;33m]\u001b[0m\u001b[1;33m)\u001b[0m\u001b[1;33m\u001b[0m\u001b[1;33m\u001b[0m\u001b[0m\n\u001b[0m",
      "\u001b[1;31mNameError\u001b[0m: name 's1' is not defined"
     ]
    }
   ],
   "source": [
    "print(s1[0],s1[4])\n"
   ]
  },
  {
   "cell_type": "code",
   "execution_count": 2,
   "metadata": {},
   "outputs": [
    {
     "ename": "NameError",
     "evalue": "name 's1' is not defined",
     "output_type": "error",
     "traceback": [
      "\u001b[1;31m---------------------------------------------------------------------------\u001b[0m",
      "\u001b[1;31mNameError\u001b[0m                                 Traceback (most recent call last)",
      "\u001b[1;32m<ipython-input-2-7b061d42d90a>\u001b[0m in \u001b[0;36m<module>\u001b[1;34m\u001b[0m\n\u001b[1;32m----> 1\u001b[1;33m \u001b[0mprint\u001b[0m\u001b[1;33m(\u001b[0m\u001b[0mlen\u001b[0m\u001b[1;33m(\u001b[0m\u001b[0ms1\u001b[0m\u001b[1;33m)\u001b[0m\u001b[1;33m)\u001b[0m\u001b[1;33m\u001b[0m\u001b[1;33m\u001b[0m\u001b[0m\n\u001b[0m",
      "\u001b[1;31mNameError\u001b[0m: name 's1' is not defined"
     ]
    }
   ],
   "source": [
    "print(len(s1))"
   ]
  },
  {
   "cell_type": "markdown",
   "metadata": {},
   "source": [
    "### String slicing\n",
    "#### syntax\n",
    "\n",
    "string_var[startingIndex: EndingIndex]\n",
    "\n",
    "- Default SI -> 0\n",
    "- Default EI -> Lenght if string -1"
   ]
  },
  {
   "cell_type": "code",
   "execution_count": 96,
   "metadata": {},
   "outputs": [
    {
     "name": "stdout",
     "output_type": "stream",
     "text": [
      "Leap days keep our modern-day Gregorian calendar in alignment with Earth's revolutions around the Sun. It takes Earth approximately 365.242189 days, or 365 days, 5 hours, 48 minutes, and 45 seconds, to circle once around the Sun. This is called a tropical year, and it starts on the March equinox.\n",
      "\n",
      "However, the Gregorian calendar has only 365 days in a year. If we didn't add a leap day on February 29 almost every four years, each calendar year would begin about 6 hours before the Earth completes its revolution around the Sun (see illustration).\n",
      "\n",
      "Leap days keep our modern-day Gregorian calendar in alignment with Earth's revolutions around the Su\n",
      "550\n",
      "ld begin about 6 hours before the Earth completes its revolution around the Sun (see illustration).\n",
      "\n"
     ]
    }
   ],
   "source": [
    "s1=\"\"\"Leap days keep our modern-day Gregorian calendar in alignment with Earth's revolutions around the Sun. It takes Earth approximately 365.242189 days, or 365 days, 5 hours, 48 minutes, and 45 seconds, to circle once around the Sun. This is called a tropical year, and it starts on the March equinox.\n",
    "\n",
    "However, the Gregorian calendar has only 365 days in a year. If we didn't add a leap day on February 29 almost every four years, each calendar year would begin about 6 hours before the Earth completes its revolution around the Sun (see illustration).\n",
    "\"\"\"\n",
    "print(s1)\n",
    "print(s1[0:100]) #first 100 characters\n",
    "print(len(s1))\n",
    "print(s1[-100:])\n"
   ]
  },
  {
   "cell_type": "code",
   "execution_count": 8,
   "metadata": {},
   "outputs": [
    {
     "name": "stdout",
     "output_type": "stream",
     "text": [
      "Lpa \n"
     ]
    }
   ],
   "source": [
    "print(s1[0: 10: 3])"
   ]
  },
  {
   "cell_type": "code",
   "execution_count": 10,
   "metadata": {},
   "outputs": [
    {
     "name": "stdout",
     "output_type": "stream",
     "text": [
      "tul e(nSetdur otlvrsistlmchrEeteoe ro  ub ie lo ayrdea ce,re ufyeetol 2yare oydpe  d 'dde I.ayan yd53yn a anlcnioeGet,eeo\n",
      ".oiq ca h osrt ida,aylcpr  elcs iT.u h noaen lrco sncs5 n stnm8 suh5,yd53r sa 82253yeaiopahrEsktt nSetdur niuoe 'ta twtenian anlcnioeGydneo u eksa aL\n"
     ]
    }
   ],
   "source": [
    "print(s1[-10: :-2])"
   ]
  },
  {
   "cell_type": "code",
   "execution_count": 11,
   "metadata": {},
   "outputs": [
    {
     "name": "stdout",
     "output_type": "stream",
     "text": [
      "\n",
      ".)noitartsulli ees( nuS eht dnuora noitulover sti setelpmoc htraE eht erofeb sruoh 6 tuoba nigeb dluow raey radnelac hcae ,sraey ruof yreve tsomla 92 yraurbeF no yad pael a dda t'ndid ew fI .raey a ni syad 563 ylno sah radnelac nairogerG eht ,revewoH\n",
      "\n",
      ".xoniuqe hcraM eht no strats ti dna ,raey laciport a dellac si sihT .nuS eht dnuora ecno elcric ot ,sdnoces 54 dna ,setunim 84 ,sruoh 5 ,syad 563 ro ,syad 981242.563 yletamixorppa htraE sekat tI .nuS eht dnuora snoitulover s'htraE htiw tnemngila ni radnelac nairogerG yad-nredom ruo peek syad paeL\n"
     ]
    }
   ],
   "source": [
    "print(s1[: : -1])"
   ]
  },
  {
   "cell_type": "code",
   "execution_count": 12,
   "metadata": {},
   "outputs": [
    {
     "name": "stdout",
     "output_type": "stream",
     "text": [
      "\n",
      ".)noitartsulli ees( nuS eht dnuora noitulover sti setelpmoc htraE eht erofeb sruoh 6 tuoba nigeb dluow raey radnelac hcae ,sraey ruof yreve tsomla 92 yraurbeF no yad pael a dda t'ndid ew fI .raey a ni syad 563 ylno sah radnelac nairogerG eht ,revewoH\n",
      "\n",
      ".xoniuqe hcraM eht no strats ti dna ,raey laciport a dellac si sihT .nuS eht dnuora ecno elcric ot ,sdnoces 54 dna ,setunim 84 ,sruoh 5 ,syad 563 ro ,syad 981242.563 yletamixorppa htraE sekat tI .nuS eht dnuora snoitulover s'htraE htiw tnemngila ni radnelac nairogerG yad-nredom ruo peek syad paeL\n"
     ]
    }
   ],
   "source": [
    "print(s1[: : -1]) #each and second character"
   ]
  },
  {
   "cell_type": "markdown",
   "metadata": {},
   "source": [
    "### String Methods"
   ]
  },
  {
   "cell_type": "code",
   "execution_count": 13,
   "metadata": {},
   "outputs": [
    {
     "name": "stdout",
     "output_type": "stream",
     "text": [
      "APSSDC DATA SCIENCE TRAINING PROGRAM\n"
     ]
    }
   ],
   "source": [
    "s='Apssdc Data science training program'\n",
    "print(s.upper())"
   ]
  },
  {
   "cell_type": "code",
   "execution_count": 14,
   "metadata": {},
   "outputs": [
    {
     "name": "stdout",
     "output_type": "stream",
     "text": [
      "apssdc data science training program\n"
     ]
    }
   ],
   "source": [
    "print(s.lower())"
   ]
  },
  {
   "cell_type": "code",
   "execution_count": 15,
   "metadata": {},
   "outputs": [
    {
     "name": "stdout",
     "output_type": "stream",
     "text": [
      "aPSSDC dATA SCIENCE TRAINING PROGRAM\n"
     ]
    }
   ],
   "source": [
    "print(s.swapcase())"
   ]
  },
  {
   "cell_type": "code",
   "execution_count": 16,
   "metadata": {},
   "outputs": [
    {
     "name": "stdout",
     "output_type": "stream",
     "text": [
      "True False\n"
     ]
    }
   ],
   "source": [
    "su='APSSDC'\n",
    "s1='python'\n",
    "sn='3487231'\n",
    "\n",
    "print(su.isupper(),s1.isupper())"
   ]
  },
  {
   "cell_type": "code",
   "execution_count": 19,
   "metadata": {},
   "outputs": [
    {
     "name": "stdout",
     "output_type": "stream",
     "text": [
      "True False\n"
     ]
    }
   ],
   "source": [
    "print(s1.islower(),su.islower())"
   ]
  },
  {
   "cell_type": "code",
   "execution_count": 20,
   "metadata": {},
   "outputs": [
    {
     "name": "stdout",
     "output_type": "stream",
     "text": [
      "False True\n"
     ]
    }
   ],
   "source": [
    "print(su.isdigit(),sn.isdigit())"
   ]
  },
  {
   "cell_type": "markdown",
   "metadata": {},
   "source": [
    "### Validating Indian Mobile Number\n",
    "\n",
    "\n",
    "- +91  -> \n",
    "- 1- digits ->len()\n",
    "- 9,8,7,6"
   ]
  },
  {
   "cell_type": "code",
   "execution_count": 28,
   "metadata": {},
   "outputs": [
    {
     "name": "stdout",
     "output_type": "stream",
     "text": [
      "+91994738427o is valid mobile number\n"
     ]
    }
   ],
   "source": [
    "n1='+91994738427o'\n",
    "n2='+65385757'\n",
    "n3='+919583957385'\n",
    "n4='+57802759203'\n",
    "\n",
    "if n1[0]=='+':\n",
    "    if n1[1:3]=='91' and len(n1[3: ])==10 and n1[3] in '9876':\n",
    "        print(n1,'is valid mobile number')\n",
    "    else:\n",
    "            print(n1,'is valid indian mobile number')\n",
    "        \n",
    "elif len(n1[3: ])==10 and n1[3] in '9876' and n1.isdigit():\n",
    "    print(n1,'is valid mobile number')\n",
    "    \n",
    "else:\n",
    "    print(n1,'is not valid mobile number')\n",
    "    \n"
   ]
  },
  {
   "cell_type": "code",
   "execution_count": 32,
   "metadata": {},
   "outputs": [
    {
     "name": "stdout",
     "output_type": "stream",
     "text": [
      "True\n"
     ]
    }
   ],
   "source": [
    "rollno='19KQ1A0237'\n",
    "\n",
    "print(rollno.startswith('19'))"
   ]
  },
  {
   "cell_type": "code",
   "execution_count": 42,
   "metadata": {},
   "outputs": [
    {
     "name": "stdout",
     "output_type": "stream",
     "text": [
      "True\n"
     ]
    }
   ],
   "source": [
    "email1='tanmayechandana@gmail.com'\n",
    "email2='tanmayee_chandanam@srmap.edu.in'\n",
    "print(email1.endswith('gmail.com'))"
   ]
  },
  {
   "cell_type": "code",
   "execution_count": 45,
   "metadata": {},
   "outputs": [
    {
     "name": "stdout",
     "output_type": "stream",
     "text": [
      "18\n",
      "tanmayee_ch\n",
      "manisha_pandey@gma\n"
     ]
    }
   ],
   "source": [
    "email='tanmayee_chandanam@srmap.edu.in'\n",
    "email3='manisha_pandey@gmail.com'\n",
    "print(email.index('@'))\n",
    "print(email[0:11])\n",
    "print(email3[0: email2.index('@')])"
   ]
  },
  {
   "cell_type": "code",
   "execution_count": 46,
   "metadata": {},
   "outputs": [
    {
     "data": {
      "text/plain": [
       "'gmail'"
      ]
     },
     "execution_count": 46,
     "metadata": {},
     "output_type": "execute_result"
    }
   ],
   "source": [
    "email='tanmayee_chandanam@srmap.edu.in'\n",
    "email3='manisha_pandey@gmail.com'\n",
    "email4='vinutha_rayapudi@gmail.com'\n",
    "\n",
    "email3[email3.index('@') + 1:email3.index('.')]"
   ]
  },
  {
   "cell_type": "code",
   "execution_count": 47,
   "metadata": {},
   "outputs": [
    {
     "name": "stdout",
     "output_type": "stream",
     "text": [
      "Help on method_descriptor:\n",
      "\n",
      "index(...)\n",
      "    S.index(sub[, start[, end]]) -> int\n",
      "    \n",
      "    Return the lowest index in S where substring sub is found, \n",
      "    such that sub is contained within S[start:end].  Optional\n",
      "    arguments start and end are interpreted as in slice notation.\n",
      "    \n",
      "    Raises ValueError when the substring is not found.\n",
      "\n"
     ]
    }
   ],
   "source": [
    "help(str.index)"
   ]
  },
  {
   "cell_type": "code",
   "execution_count": 55,
   "metadata": {},
   "outputs": [
    {
     "name": "stdout",
     "output_type": "stream",
     "text": [
      "8\n"
     ]
    }
   ],
   "source": [
    "email='tanmayee@gmail@in'\n",
    "print(email.index('@'))"
   ]
  },
  {
   "cell_type": "code",
   "execution_count": 53,
   "metadata": {},
   "outputs": [
    {
     "name": "stdout",
     "output_type": "stream",
     "text": [
      "8\n"
     ]
    }
   ],
   "source": [
    "email='tanmayee@gmail'\n",
    "print(email.index('@',5))"
   ]
  },
  {
   "cell_type": "code",
   "execution_count": 56,
   "metadata": {},
   "outputs": [
    {
     "name": "stdout",
     "output_type": "stream",
     "text": [
      "3\n"
     ]
    }
   ],
   "source": [
    "print(email.count('a'))"
   ]
  },
  {
   "cell_type": "code",
   "execution_count": 57,
   "metadata": {},
   "outputs": [
    {
     "name": "stdout",
     "output_type": "stream",
     "text": [
      "2\n"
     ]
    }
   ],
   "source": [
    "print(email.count('@'))"
   ]
  },
  {
   "cell_type": "code",
   "execution_count": 59,
   "metadata": {},
   "outputs": [
    {
     "name": "stdout",
     "output_type": "stream",
     "text": [
      "APSSDC python      APSSDC python APSSDC python\n"
     ]
    }
   ],
   "source": [
    "s='  APSSDC python   '\n",
    "print(s.lstrip(),s.rstrip(),s.strip())"
   ]
  },
  {
   "cell_type": "code",
   "execution_count": 60,
   "metadata": {},
   "outputs": [
    {
     "name": "stdout",
     "output_type": "stream",
     "text": [
      "APSSDC Python)))) ((((APSSDC Python APSSDC Python\n"
     ]
    }
   ],
   "source": [
    "s='((((APSSDC Python))))'\n",
    "\n",
    "print(s.lstrip('('),s.rstrip(')'),s.strip('()'))"
   ]
  },
  {
   "cell_type": "code",
   "execution_count": 61,
   "metadata": {},
   "outputs": [
    {
     "name": "stdout",
     "output_type": "stream",
     "text": [
      "cleaned data\n"
     ]
    }
   ],
   "source": [
    "s='((((([[[[{{{{{{cleaned data}}}}}}]]]])))))'\n",
    "\n",
    "print(s.strip('([{}])'))"
   ]
  },
  {
   "cell_type": "code",
   "execution_count": 63,
   "metadata": {},
   "outputs": [
    {
     "name": "stdout",
     "output_type": "stream",
     "text": [
      "Leap days keep our modern-day Gregorian calendar in alignment with Earth's revolutions around the Sun. It takes Earth approximately 365.242189 days, or 365 days, 5 hours, 48 minutes, and 45 seconds, to circle once around the Sun. This is called a tropical year, and it starts on the March equinox.\n",
      "\n",
      "However, the Gregorian calendar has only 365 days in a year. If we didn't add a leap day on February 29 almost every four years, each calendar year would begin about 6 hours before the Earth completes its revolution around the Sun (see illustration).\n",
      "\n"
     ]
    }
   ],
   "source": [
    "s1=\"\"\"Leap days keep our modern-day Gregorian calendar in alignment with Earth's revolutions around the Sun. It takes Earth approximately 365.242189 days, or 365 days, 5 hours, 48 minutes, and 45 seconds, to circle once around the Sun. This is called a tropical year, and it starts on the March equinox.\n",
    "\n",
    "However, the Gregorian calendar has only 365 days in a year. If we didn't add a leap day on February 29 almost every four years, each calendar year would begin about 6 hours before the Earth completes its revolution around the Sun (see illustration).\n",
    "\"\"\"\n",
    "print(s1)"
   ]
  },
  {
   "cell_type": "code",
   "execution_count": 64,
   "metadata": {},
   "outputs": [
    {
     "name": "stdout",
     "output_type": "stream",
     "text": [
      "[\"Leap days keep our modern-day Gregorian calendar in alignment with Earth's revolutions around the Sun. It takes Earth approximately 365.242189 days, or 365 days, 5 hours, 48 minutes, and 45 seconds, to circle once around the Sun. This is called a tropical year, and it starts on the March equinox.\", '', \"However, the Gregorian calendar has only 365 days in a year. If we didn't add a leap day on February 29 almost every four years, each calendar year would begin about 6 hours before the Earth completes its revolution around the Sun (see illustration).\", '']\n"
     ]
    }
   ],
   "source": [
    "print(s1.split('\\n'))"
   ]
  },
  {
   "cell_type": "code",
   "execution_count": 66,
   "metadata": {},
   "outputs": [
    {
     "name": "stdout",
     "output_type": "stream",
     "text": [
      "[\"Leap days keep our modern-day Gregorian calendar in alignment with Earth's revolutions around the Sun\", ' It takes Earth approximately 365', '242189 days, or 365 days, 5 hours, 48 minutes, and 45 seconds, to circle once around the Sun', ' This is called a tropical year, and it starts on the March equinox', '\\n\\nHowever, the Gregorian calendar has only 365 days in a year', \" If we didn't add a leap day on February 29 almost every four years, each calendar year would begin about 6 hours before the Earth completes its revolution around the Sun (see illustration)\", '\\n']\n"
     ]
    }
   ],
   "source": [
    "print(s1.split('.'))\n",
    "\n",
    "sen=s1.split('.')\n"
   ]
  },
  {
   "cell_type": "code",
   "execution_count": 67,
   "metadata": {},
   "outputs": [
    {
     "data": {
      "text/plain": [
       "\"Leap days keep our modern-day Gregorian calendar in alignment with Earth's revolutions around the Sun. It takes Earth approximately 365.242189 days, or 365 days, 5 hours, 48 minutes, and 45 seconds, to circle once around the Sun. This is called a tropical year, and it starts on the March equinox.\\n\\nHowever, the Gregorian calendar has only 365 days in a year. If we didn't add a leap day on February 29 almost every four years, each calendar year would begin about 6 hours before the Earth completes its revolution around the Sun (see illustration).\\n\""
      ]
     },
     "execution_count": 67,
     "metadata": {},
     "output_type": "execute_result"
    }
   ],
   "source": [
    "'.'.join(sen)"
   ]
  },
  {
   "cell_type": "code",
   "execution_count": 68,
   "metadata": {},
   "outputs": [
    {
     "data": {
      "text/plain": [
       "\"Leap days keep our modern-day Gregorian calendar in alignment with Earth's revolutions around the Sun******** It takes Earth approximately 365********242189 days, or 365 days, 5 hours, 48 minutes, and 45 seconds, to circle once around the Sun******** This is called a tropical year, and it starts on the March equinox********\\n\\nHowever, the Gregorian calendar has only 365 days in a year******** If we didn't add a leap day on February 29 almost every four years, each calendar year would begin about 6 hours before the Earth completes its revolution around the Sun (see illustration)********\\n\""
      ]
     },
     "execution_count": 68,
     "metadata": {},
     "output_type": "execute_result"
    }
   ],
   "source": [
    "'********'.join(sen)"
   ]
  },
  {
   "cell_type": "code",
   "execution_count": 69,
   "metadata": {},
   "outputs": [
    {
     "name": "stdout",
     "output_type": "stream",
     "text": [
      "Leap-days-keep-our-modern-day-Gregorian-calendar-in-alignment-with-Earth's-revolutions-around-the-Sun.-It-takes-Earth-approximately-365.242189-days,-or-365-days,-5-hours,-48-minutes,-and-45-seconds,-to-circle-once-around-the-Sun.-This-is-called-a-tropical-year,-and-it-starts-on-the-March-equinox.\n",
      "\n",
      "However,-the-Gregorian-calendar-has-only-365-days-in-a-year.-If-we-didn't-add-a-leap-day-on-February-29-almost-every-four-years,-each-calendar-year-would-begin-about-6-hours-before-the-Earth-completes-its-revolution-around-the-Sun-(see-illustration).\n",
      "\n"
     ]
    }
   ],
   "source": [
    "print(s1.replace(' ','-'))"
   ]
  },
  {
   "cell_type": "code",
   "execution_count": 70,
   "metadata": {},
   "outputs": [
    {
     "name": "stdout",
     "output_type": "stream",
     "text": [
      "Leap Days Keep Our Modern-Day Gregorian Calendar In Alignment With Earth'S Revolutions Around The Sun. It Takes Earth Approximately 365.242189 Days, Or 365 Days, 5 Hours, 48 Minutes, And 45 Seconds, To Circle Once Around The Sun. This Is Called A Tropical Year, And It Starts On The March Equinox.\n",
      "\n",
      "However, The Gregorian Calendar Has Only 365 Days In A Year. If We Didn'T Add A Leap Day On February 29 Almost Every Four Years, Each Calendar Year Would Begin About 6 Hours Before The Earth Completes Its Revolution Around The Sun (See Illustration).\n",
      "\n"
     ]
    }
   ],
   "source": [
    "print(s1.title())"
   ]
  },
  {
   "cell_type": "code",
   "execution_count": 71,
   "metadata": {},
   "outputs": [
    {
     "name": "stdout",
     "output_type": "stream",
     "text": [
      "Leap days keep our modern-day gregorian calendar in alignment with earth's revolutions around the sun. it takes earth approximately 365.242189 days, or 365 days, 5 hours, 48 minutes, and 45 seconds, to circle once around the sun. this is called a tropical year, and it starts on the march equinox.\n",
      "\n",
      "however, the gregorian calendar has only 365 days in a year. if we didn't add a leap day on february 29 almost every four years, each calendar year would begin about 6 hours before the earth completes its revolution around the sun (see illustration).\n",
      "\n"
     ]
    }
   ],
   "source": [
    "print(s1.capitalize())"
   ]
  },
  {
   "cell_type": "code",
   "execution_count": 72,
   "metadata": {},
   "outputs": [
    {
     "name": "stdout",
     "output_type": "stream",
     "text": [
      "False\n"
     ]
    }
   ],
   "source": [
    "print(s1.istitle())"
   ]
  },
  {
   "cell_type": "code",
   "execution_count": 73,
   "metadata": {},
   "outputs": [
    {
     "name": "stdout",
     "output_type": "stream",
     "text": [
      "leap days keep our modern-day gregorian calendar in alignment with earth's revolutions around the sun. it takes earth approximately 365.242189 days, or 365 days, 5 hours, 48 minutes, and 45 seconds, to circle once around the sun. this is called a tropical year, and it starts on the march equinox.\n",
      "\n",
      "however, the gregorian calendar has only 365 days in a year. if we didn't add a leap day on february 29 almost every four years, each calendar year would begin about 6 hours before the earth completes its revolution around the sun (see illustration).\n",
      "\n"
     ]
    }
   ],
   "source": [
    "print(s1.casefold())"
   ]
  },
  {
   "cell_type": "code",
   "execution_count": 74,
   "metadata": {},
   "outputs": [
    {
     "name": "stdout",
     "output_type": "stream",
     "text": [
      "True\n"
     ]
    }
   ],
   "source": [
    "s='Python Programming'\n",
    "\n",
    "print(s.istitle())"
   ]
  },
  {
   "cell_type": "code",
   "execution_count": 75,
   "metadata": {},
   "outputs": [
    {
     "name": "stdout",
     "output_type": "stream",
     "text": [
      "I'm Certify that Tanmayee from Institute, on program,from Date\n"
     ]
    }
   ],
   "source": [
    "certificate=\"I'm Certify that {} from Institute, on program,from Date\".format('Tanmayee')\n",
    "\n",
    "print(certificate)"
   ]
  },
  {
   "cell_type": "code",
   "execution_count": 78,
   "metadata": {},
   "outputs": [
    {
     "name": "stdout",
     "output_type": "stream",
     "text": [
      "I'm Certify that Tanmayee from Institute, on program,from Date01-June\n"
     ]
    }
   ],
   "source": [
    "print(\"I'm Certify that {} from Institute, on program,from Date{}\".format('Tanmayee','01-June'))\n"
   ]
  },
  {
   "cell_type": "code",
   "execution_count": 79,
   "metadata": {},
   "outputs": [
    {
     "name": "stdout",
     "output_type": "stream",
     "text": [
      "I'm Certify that Tanmayee from Institute, on program,form 01-June, Tanmayee perform is excellent\n"
     ]
    }
   ],
   "source": [
    "print(\"I'm Certify that {0} from Institute, on program,form {1}, {0} perform is excellent\".format('Tanmayee','01-June'))"
   ]
  },
  {
   "cell_type": "code",
   "execution_count": 81,
   "metadata": {},
   "outputs": [
    {
     "name": "stdout",
     "output_type": "stream",
     "text": [
      "True True\n"
     ]
    }
   ],
   "source": [
    "s='asdfg'\n",
    "s3='asd456'\n",
    "print(s.isalpha(),s3.isalnum())"
   ]
  },
  {
   "cell_type": "code",
   "execution_count": 82,
   "metadata": {},
   "outputs": [
    {
     "name": "stdout",
     "output_type": "stream",
     "text": [
      "False\n"
     ]
    }
   ],
   "source": [
    "s4='ajasnd kjsd'\n",
    "print(s4.isalnum())"
   ]
  },
  {
   "cell_type": "code",
   "execution_count": 83,
   "metadata": {},
   "outputs": [],
   "source": [
    "s1=\"\"\"Leap days keep our modern-day Gregorian calendar in alignment with Earth's revolutions around the Sun. It takes Earth approximately 365.242189 days, or 365 days, 5 hours, 48 minutes, and 45 seconds, to circle once around the Sun. This is called a tropical year, and it starts on the March equinox.\n",
    "\n",
    "However, the Gregorian calendar has only 365 days in a year. If we didn't add a leap day on February 29 almost every four years, each calendar year would begin about 6 hours before the Earth completes its revolution around the Sun (see illustration).\n",
    "\"\"\"\n"
   ]
  },
  {
   "cell_type": "code",
   "execution_count": 85,
   "metadata": {},
   "outputs": [
    {
     "name": "stdout",
     "output_type": "stream",
     "text": [
      "L\te\ta\tp\t \td\ta\ty\ts\t \tk\te\te\tp\t \to\tu\tr\t \tm\to\td\te\tr\tn\t-\td\ta\ty\t \tG\tr\te\tg\to\tr\ti\ta\tn\t \tc\ta\tl\te\tn\td\ta\tr\t \ti\tn\t \ta\tl\ti\tg\tn\tm\te\tn\tt\t \tw\ti\tt\th\t \tE\ta\tr\tt\th\t'\ts\t \tr\te\tv\to\tl\tu\tt\ti\to\tn\ts\t \ta\tr\to\tu\tn\td\t \tt\th\te\t \tS\tu\tn\t.\t \tI\tt\t \tt\ta\tk\te\ts\t \tE\ta\tr\tt\th\t \ta\tp\tp\tr\to\tx\ti\tm\ta\tt\te\tl\ty\t \t3\t6\t5\t.\t2\t4\t2\t1\t8\t9\t \td\ta\ty\ts\t,\t \to\tr\t \t3\t6\t5\t \td\ta\ty\ts\t,\t \t5\t \th\to\tu\tr\ts\t,\t \t4\t8\t \tm\ti\tn\tu\tt\te\ts\t,\t \ta\tn\td\t \t4\t5\t \ts\te\tc\to\tn\td\ts\t,\t \tt\to\t \tc\ti\tr\tc\tl\te\t \to\tn\tc\te\t \ta\tr\to\tu\tn\td\t \tt\th\te\t \tS\tu\tn\t.\t \tT\th\ti\ts\t \ti\ts\t \tc\ta\tl\tl\te\td\t \ta\t \tt\tr\to\tp\ti\tc\ta\tl\t \ty\te\ta\tr\t,\t \ta\tn\td\t \ti\tt\t \ts\tt\ta\tr\tt\ts\t \to\tn\t \tt\th\te\t \tM\ta\tr\tc\th\t \te\tq\tu\ti\tn\to\tx\t.\t\n",
      "\t\n",
      "\tH\to\tw\te\tv\te\tr\t,\t \tt\th\te\t \tG\tr\te\tg\to\tr\ti\ta\tn\t \tc\ta\tl\te\tn\td\ta\tr\t \th\ta\ts\t \to\tn\tl\ty\t \t3\t6\t5\t \td\ta\ty\ts\t \ti\tn\t \ta\t \ty\te\ta\tr\t.\t \tI\tf\t \tw\te\t \td\ti\td\tn\t'\tt\t \ta\td\td\t \ta\t \tl\te\ta\tp\t \td\ta\ty\t \to\tn\t \tF\te\tb\tr\tu\ta\tr\ty\t \t2\t9\t \ta\tl\tm\to\ts\tt\t \te\tv\te\tr\ty\t \tf\to\tu\tr\t \ty\te\ta\tr\ts\t,\t \te\ta\tc\th\t \tc\ta\tl\te\tn\td\ta\tr\t \ty\te\ta\tr\t \tw\to\tu\tl\td\t \tb\te\tg\ti\tn\t \ta\tb\to\tu\tt\t \t6\t \th\to\tu\tr\ts\t \tb\te\tf\to\tr\te\t \tt\th\te\t \tE\ta\tr\tt\th\t \tc\to\tm\tp\tl\te\tt\te\ts\t \ti\tt\ts\t \tr\te\tv\to\tl\tu\tt\ti\to\tn\t \ta\tr\to\tu\tn\td\t \tt\th\te\t \tS\tu\tn\t \t(\ts\te\te\t \ti\tl\tl\tu\ts\tt\tr\ta\tt\ti\to\tn\t)\t.\t\n",
      "\t"
     ]
    }
   ],
   "source": [
    "for char in s1:\n",
    "    print(char, end='\\t')"
   ]
  },
  {
   "cell_type": "code",
   "execution_count": 87,
   "metadata": {},
   "outputs": [
    {
     "name": "stdout",
     "output_type": "stream",
     "text": [
      "L\te\ta\tp\td\ta\ty\ts\tk\te\te\tp\to\tu\tr\tm\to\td\te\tr\tn\td\ta\ty\tG\tr\te\tg\to\tr\ti\ta\tn\tc\ta\tl\te\tn\td\ta\tr\ti\tn\ta\tl\ti\tg\tn\tm\te\tn\tt\tw\ti\tt\th\tE\ta\tr\tt\th\ts\tr\te\tv\to\tl\tu\tt\ti\to\tn\ts\ta\tr\to\tu\tn\td\tt\th\te\tS\tu\tn\tI\tt\tt\ta\tk\te\ts\tE\ta\tr\tt\th\ta\tp\tp\tr\to\tx\ti\tm\ta\tt\te\tl\ty\td\ta\ty\ts\to\tr\td\ta\ty\ts\th\to\tu\tr\ts\tm\ti\tn\tu\tt\te\ts\ta\tn\td\ts\te\tc\to\tn\td\ts\tt\to\tc\ti\tr\tc\tl\te\to\tn\tc\te\ta\tr\to\tu\tn\td\tt\th\te\tS\tu\tn\tT\th\ti\ts\ti\ts\tc\ta\tl\tl\te\td\ta\tt\tr\to\tp\ti\tc\ta\tl\ty\te\ta\tr\ta\tn\td\ti\tt\ts\tt\ta\tr\tt\ts\to\tn\tt\th\te\tM\ta\tr\tc\th\te\tq\tu\ti\tn\to\tx\tH\to\tw\te\tv\te\tr\tt\th\te\tG\tr\te\tg\to\tr\ti\ta\tn\tc\ta\tl\te\tn\td\ta\tr\th\ta\ts\to\tn\tl\ty\td\ta\ty\ts\ti\tn\ta\ty\te\ta\tr\tI\tf\tw\te\td\ti\td\tn\tt\ta\td\td\ta\tl\te\ta\tp\td\ta\ty\to\tn\tF\te\tb\tr\tu\ta\tr\ty\ta\tl\tm\to\ts\tt\te\tv\te\tr\ty\tf\to\tu\tr\ty\te\ta\tr\ts\te\ta\tc\th\tc\ta\tl\te\tn\td\ta\tr\ty\te\ta\tr\tw\to\tu\tl\td\tb\te\tg\ti\tn\ta\tb\to\tu\tt\th\to\tu\tr\ts\tb\te\tf\to\tr\te\tt\th\te\tE\ta\tr\tt\th\tc\to\tm\tp\tl\te\tt\te\ts\ti\tt\ts\tr\te\tv\to\tl\tu\tt\ti\to\tn\ta\tr\to\tu\tn\td\tt\th\te\tS\tu\tn\ts\te\te\ti\tl\tl\tu\ts\tt\tr\ta\tt\ti\to\tn\t"
     ]
    }
   ],
   "source": [
    "for char in s1:\n",
    "    if char.isalpha():\n",
    "         print(char, end='\\t')"
   ]
  },
  {
   "cell_type": "code",
   "execution_count": 89,
   "metadata": {},
   "outputs": [
    {
     "name": "stdout",
     "output_type": "stream",
     "text": [
      "3\t6\t5\t2\t4\t2\t1\t8\t9\t3\t6\t5\t5\t4\t8\t4\t5\t3\t6\t5\t2\t9\t6\t"
     ]
    }
   ],
   "source": [
    "for char in s1:\n",
    "    if char.isdigit():        #if we want to get digits in given text\n",
    "           print(char, end='\\t')"
   ]
  },
  {
   "cell_type": "code",
   "execution_count": 90,
   "metadata": {},
   "outputs": [
    {
     "name": "stdout",
     "output_type": "stream",
     "text": [
      "e\ta\ta\te\te\to\tu\to\te\ta\te\to\ti\ta\ta\te\ta\ti\ta\ti\te\ti\tE\ta\te\to\tu\ti\to\ta\to\tu\te\tu\tI\ta\te\tE\ta\ta\to\ti\ta\te\ta\to\ta\to\tu\ti\tu\te\ta\te\to\to\ti\te\to\te\ta\to\tu\te\tu\ti\ti\ta\te\ta\to\ti\ta\te\ta\ta\ti\ta\to\te\ta\te\tu\ti\to\to\te\te\te\te\to\ti\ta\ta\te\ta\ta\to\ta\ti\ta\te\ta\tI\te\ti\ta\ta\te\ta\ta\to\te\tu\ta\ta\to\te\te\to\tu\te\ta\te\ta\ta\te\ta\te\ta\to\tu\te\ti\ta\to\tu\to\tu\te\to\te\te\tE\ta\to\te\te\ti\te\to\tu\ti\to\ta\to\tu\te\tu\te\te\ti\tu\ta\ti\to\t"
     ]
    }
   ],
   "source": [
    "for char in s1:\n",
    "    if char in 'AEIOUaeiou':\n",
    "             print(char, end='\\t')"
   ]
  },
  {
   "cell_type": "code",
   "execution_count": 92,
   "metadata": {},
   "outputs": [
    {
     "name": "stdout",
     "output_type": "stream",
     "text": [
      "Alpha 4 Digits 0 Special Charac 1\n",
      "Alpha 8 Digits 0 Special Charac 2\n",
      "Alpha 12 Digits 0 Special Charac 3\n",
      "Alpha 15 Digits 0 Special Charac 4\n",
      "Alpha 21 Digits 0 Special Charac 5\n",
      "Alpha 24 Digits 0 Special Charac 6\n",
      "Alpha 33 Digits 0 Special Charac 7\n",
      "Alpha 41 Digits 0 Special Charac 8\n",
      "Alpha 43 Digits 0 Special Charac 9\n",
      "Alpha 52 Digits 0 Special Charac 10\n",
      "Alpha 56 Digits 0 Special Charac 11\n",
      "Alpha 61 Digits 0 Special Charac 12\n",
      "Alpha 62 Digits 0 Special Charac 13\n",
      "Alpha 73 Digits 0 Special Charac 14\n",
      "Alpha 79 Digits 0 Special Charac 15\n",
      "Alpha 82 Digits 0 Special Charac 16\n",
      "Alpha 85 Digits 0 Special Charac 17\n",
      "Alpha 85 Digits 0 Special Charac 18\n",
      "Alpha 87 Digits 0 Special Charac 19\n",
      "Alpha 92 Digits 0 Special Charac 20\n",
      "Alpha 97 Digits 0 Special Charac 21\n",
      "Alpha 110 Digits 0 Special Charac 22\n",
      "Alpha 110 Digits 3 Special Charac 23\n",
      "Alpha 110 Digits 9 Special Charac 24\n",
      "Alpha 114 Digits 9 Special Charac 25\n",
      "Alpha 114 Digits 9 Special Charac 26\n",
      "Alpha 116 Digits 9 Special Charac 27\n",
      "Alpha 116 Digits 12 Special Charac 28\n",
      "Alpha 120 Digits 12 Special Charac 29\n",
      "Alpha 120 Digits 12 Special Charac 30\n",
      "Alpha 120 Digits 13 Special Charac 31\n",
      "Alpha 125 Digits 13 Special Charac 32\n",
      "Alpha 125 Digits 13 Special Charac 33\n",
      "Alpha 125 Digits 15 Special Charac 34\n",
      "Alpha 132 Digits 15 Special Charac 35\n",
      "Alpha 132 Digits 15 Special Charac 36\n",
      "Alpha 135 Digits 15 Special Charac 37\n",
      "Alpha 135 Digits 17 Special Charac 38\n",
      "Alpha 142 Digits 17 Special Charac 39\n",
      "Alpha 142 Digits 17 Special Charac 40\n",
      "Alpha 144 Digits 17 Special Charac 41\n",
      "Alpha 150 Digits 17 Special Charac 42\n",
      "Alpha 154 Digits 17 Special Charac 43\n",
      "Alpha 160 Digits 17 Special Charac 44\n",
      "Alpha 163 Digits 17 Special Charac 45\n",
      "Alpha 166 Digits 17 Special Charac 46\n",
      "Alpha 166 Digits 17 Special Charac 47\n",
      "Alpha 170 Digits 17 Special Charac 48\n",
      "Alpha 172 Digits 17 Special Charac 49\n",
      "Alpha 178 Digits 17 Special Charac 50\n",
      "Alpha 179 Digits 17 Special Charac 51\n",
      "Alpha 187 Digits 17 Special Charac 52\n",
      "Alpha 191 Digits 17 Special Charac 53\n",
      "Alpha 191 Digits 17 Special Charac 54\n",
      "Alpha 194 Digits 17 Special Charac 55\n",
      "Alpha 196 Digits 17 Special Charac 56\n",
      "Alpha 202 Digits 17 Special Charac 57\n",
      "Alpha 204 Digits 17 Special Charac 58\n",
      "Alpha 207 Digits 17 Special Charac 59\n",
      "Alpha 212 Digits 17 Special Charac 60\n",
      "Alpha 219 Digits 17 Special Charac 61\n",
      "Alpha 219 Digits 17 Special Charac 62\n",
      "Alpha 219 Digits 17 Special Charac 63\n",
      "Alpha 226 Digits 17 Special Charac 64\n",
      "Alpha 226 Digits 17 Special Charac 65\n",
      "Alpha 229 Digits 17 Special Charac 66\n",
      "Alpha 238 Digits 17 Special Charac 67\n",
      "Alpha 246 Digits 17 Special Charac 68\n",
      "Alpha 249 Digits 17 Special Charac 69\n",
      "Alpha 253 Digits 17 Special Charac 70\n",
      "Alpha 253 Digits 20 Special Charac 71\n",
      "Alpha 257 Digits 20 Special Charac 72\n",
      "Alpha 259 Digits 20 Special Charac 73\n",
      "Alpha 260 Digits 20 Special Charac 74\n",
      "Alpha 264 Digits 20 Special Charac 75\n",
      "Alpha 264 Digits 20 Special Charac 76\n",
      "Alpha 266 Digits 20 Special Charac 77\n",
      "Alpha 268 Digits 20 Special Charac 78\n",
      "Alpha 272 Digits 20 Special Charac 79\n",
      "Alpha 273 Digits 20 Special Charac 80\n",
      "Alpha 276 Digits 20 Special Charac 81\n",
      "Alpha 277 Digits 20 Special Charac 82\n",
      "Alpha 281 Digits 20 Special Charac 83\n",
      "Alpha 284 Digits 20 Special Charac 84\n",
      "Alpha 286 Digits 20 Special Charac 85\n",
      "Alpha 294 Digits 20 Special Charac 86\n",
      "Alpha 294 Digits 22 Special Charac 87\n",
      "Alpha 300 Digits 22 Special Charac 88\n",
      "Alpha 305 Digits 22 Special Charac 89\n",
      "Alpha 309 Digits 22 Special Charac 90\n",
      "Alpha 314 Digits 22 Special Charac 91\n",
      "Alpha 314 Digits 22 Special Charac 92\n",
      "Alpha 318 Digits 22 Special Charac 93\n",
      "Alpha 326 Digits 22 Special Charac 94\n",
      "Alpha 330 Digits 22 Special Charac 95\n",
      "Alpha 335 Digits 22 Special Charac 96\n",
      "Alpha 340 Digits 22 Special Charac 97\n",
      "Alpha 345 Digits 22 Special Charac 98\n",
      "Alpha 345 Digits 23 Special Charac 99\n",
      "Alpha 350 Digits 23 Special Charac 100\n",
      "Alpha 356 Digits 23 Special Charac 101\n",
      "Alpha 359 Digits 23 Special Charac 102\n",
      "Alpha 364 Digits 23 Special Charac 103\n",
      "Alpha 373 Digits 23 Special Charac 104\n",
      "Alpha 376 Digits 23 Special Charac 105\n",
      "Alpha 386 Digits 23 Special Charac 106\n",
      "Alpha 392 Digits 23 Special Charac 107\n",
      "Alpha 395 Digits 23 Special Charac 108\n",
      "Alpha 398 Digits 23 Special Charac 109\n",
      "Alpha 398 Digits 23 Special Charac 110\n",
      "Alpha 401 Digits 23 Special Charac 111\n",
      "Alpha 413 Digits 23 Special Charac 112\n",
      "Alpha 413 Digits 23 Special Charac 113\n",
      "Alpha 413 Digits 23 Special Charac 114\n"
     ]
    }
   ],
   "source": [
    "ac=0\n",
    "nc=0\n",
    "sc=0\n",
    "for char in s1:\n",
    "    if char.isalpha():\n",
    "        ac+=1\n",
    "    elif char.isdigit():\n",
    "            nc+=1\n",
    "    else:\n",
    "                sc+=1\n",
    "                print('Alpha',ac,'Digits',nc,\"Special Charac\",sc)"
   ]
  },
  {
   "cell_type": "markdown",
   "metadata": {},
   "source": [
    "- sum of the digits in the string\n",
    "- sum of the even digits and odd digits in the string\n"
   ]
  },
  {
   "cell_type": "markdown",
   "metadata": {},
   "source": [
    "### lists\n",
    "it is used to stored the non-homogenenous grp of valid datatypes in python\n",
    "\n",
    "### Properties\n",
    "- it is declared as []\n",
    "- list mutable data types\n",
    "- list is an ordered data\n",
    "- it is iterable"
   ]
  },
  {
   "cell_type": "code",
   "execution_count": 93,
   "metadata": {},
   "outputs": [],
   "source": [
    "li=[]\n",
    "\n",
    "li2=list()"
   ]
  },
  {
   "cell_type": "code",
   "execution_count": 94,
   "metadata": {},
   "outputs": [
    {
     "name": "stdout",
     "output_type": "stream",
     "text": [
      "<class 'list'> <class 'list'>\n"
     ]
    }
   ],
   "source": [
    "print(type(li),type(li2))"
   ]
  },
  {
   "cell_type": "code",
   "execution_count": 95,
   "metadata": {},
   "outputs": [
    {
     "name": "stdout",
     "output_type": "stream",
     "text": [
      "[1, 5.5, 5, (5+6j), 'python', [1, 2, 3]]\n"
     ]
    }
   ],
   "source": [
    "li=[1,5.5,5,5+6j,'python',[1,2,3,]]\n",
    "print(li)"
   ]
  },
  {
   "cell_type": "markdown",
   "metadata": {},
   "source": [
    "### Day 09 Lists and Tuples in Python"
   ]
  },
  {
   "cell_type": "markdown",
   "metadata": {},
   "source": [
    "- Accesing Element of list\n",
    "   - Indexing\n",
    "   - Slicing\n",
    " - List methods\n",
    " - Tuples"
   ]
  },
  {
   "cell_type": "code",
   "execution_count": 1,
   "metadata": {},
   "outputs": [],
   "source": [
    "li = [1,2,5,4,8,85]"
   ]
  },
  {
   "cell_type": "code",
   "execution_count": 4,
   "metadata": {},
   "outputs": [
    {
     "name": "stdout",
     "output_type": "stream",
     "text": [
      "6 85 1 105\n"
     ]
    }
   ],
   "source": [
    " print(len(li), max(li), min(li), sum(li)) #sum is predefined function"
   ]
  },
  {
   "cell_type": "code",
   "execution_count": 5,
   "metadata": {},
   "outputs": [
    {
     "name": "stdout",
     "output_type": "stream",
     "text": [
      "7\n"
     ]
    },
    {
     "ename": "TypeError",
     "evalue": "'<' not supported between instances of 'str' and 'int'",
     "output_type": "error",
     "traceback": [
      "\u001b[1;31m---------------------------------------------------------------------------\u001b[0m",
      "\u001b[1;31mTypeError\u001b[0m                                 Traceback (most recent call last)",
      "\u001b[1;32m<ipython-input-5-27d1ce5cf3c2>\u001b[0m in \u001b[0;36m<module>\u001b[1;34m\u001b[0m\n\u001b[0;32m      2\u001b[0m \u001b[1;33m\u001b[0m\u001b[0m\n\u001b[0;32m      3\u001b[0m \u001b[0mprint\u001b[0m\u001b[1;33m(\u001b[0m\u001b[0mlen\u001b[0m\u001b[1;33m(\u001b[0m\u001b[0mli2\u001b[0m\u001b[1;33m)\u001b[0m\u001b[1;33m)\u001b[0m\u001b[1;33m\u001b[0m\u001b[1;33m\u001b[0m\u001b[0m\n\u001b[1;32m----> 4\u001b[1;33m \u001b[0mprint\u001b[0m\u001b[1;33m(\u001b[0m\u001b[0mmin\u001b[0m\u001b[1;33m(\u001b[0m\u001b[0mli2\u001b[0m\u001b[1;33m)\u001b[0m\u001b[1;33m)\u001b[0m\u001b[1;33m\u001b[0m\u001b[1;33m\u001b[0m\u001b[0m\n\u001b[0m",
      "\u001b[1;31mTypeError\u001b[0m: '<' not supported between instances of 'str' and 'int'"
     ]
    }
   ],
   "source": [
    "li2 = [1,2,5,4,8,85,'python']\n",
    "\n",
    "print(len(li2))\n",
    "print(min(li2))"
   ]
  },
  {
   "cell_type": "markdown",
   "metadata": {},
   "source": [
    "### Acessing Elements from the list\n",
    "\n",
    "- Indexing \n",
    "    - +ve\n",
    "    - -ve\n",
    " - Slicing\n",
    "    - +ve\n",
    "    - -ve"
   ]
  },
  {
   "cell_type": "code",
   "execution_count": 6,
   "metadata": {},
   "outputs": [
    {
     "name": "stdout",
     "output_type": "stream",
     "text": [
      "1\n"
     ]
    }
   ],
   "source": [
    "print(li[0])"
   ]
  },
  {
   "cell_type": "code",
   "execution_count": 7,
   "metadata": {},
   "outputs": [
    {
     "name": "stdout",
     "output_type": "stream",
     "text": [
      "85\n"
     ]
    }
   ],
   "source": [
    "print(li[5])"
   ]
  },
  {
   "cell_type": "code",
   "execution_count": 8,
   "metadata": {},
   "outputs": [
    {
     "name": "stdout",
     "output_type": "stream",
     "text": [
      "8\n"
     ]
    }
   ],
   "source": [
    "print(li[-2])"
   ]
  },
  {
   "cell_type": "code",
   "execution_count": 9,
   "metadata": {},
   "outputs": [
    {
     "name": "stdout",
     "output_type": "stream",
     "text": [
      "1\n"
     ]
    }
   ],
   "source": [
    "print(li[-6])"
   ]
  },
  {
   "cell_type": "code",
   "execution_count": 10,
   "metadata": {},
   "outputs": [
    {
     "ename": "IndexError",
     "evalue": "list index out of range",
     "output_type": "error",
     "traceback": [
      "\u001b[1;31m---------------------------------------------------------------------------\u001b[0m",
      "\u001b[1;31mIndexError\u001b[0m                                Traceback (most recent call last)",
      "\u001b[1;32m<ipython-input-10-c96b4b304720>\u001b[0m in \u001b[0;36m<module>\u001b[1;34m\u001b[0m\n\u001b[1;32m----> 1\u001b[1;33m \u001b[0mprint\u001b[0m\u001b[1;33m(\u001b[0m\u001b[0mli\u001b[0m\u001b[1;33m[\u001b[0m\u001b[1;36m7\u001b[0m\u001b[1;33m]\u001b[0m\u001b[1;33m)\u001b[0m\u001b[1;33m\u001b[0m\u001b[1;33m\u001b[0m\u001b[0m\n\u001b[0m",
      "\u001b[1;31mIndexError\u001b[0m: list index out of range"
     ]
    }
   ],
   "source": [
    "print(li[7]) #out of range so it is called index error"
   ]
  },
  {
   "cell_type": "code",
   "execution_count": 11,
   "metadata": {},
   "outputs": [
    {
     "ename": "TypeError",
     "evalue": "list indices must be integers or slices, not float",
     "output_type": "error",
     "traceback": [
      "\u001b[1;31m---------------------------------------------------------------------------\u001b[0m",
      "\u001b[1;31mTypeError\u001b[0m                                 Traceback (most recent call last)",
      "\u001b[1;32m<ipython-input-11-d20ea65cda04>\u001b[0m in \u001b[0;36m<module>\u001b[1;34m\u001b[0m\n\u001b[1;32m----> 1\u001b[1;33m \u001b[0mprint\u001b[0m\u001b[1;33m(\u001b[0m\u001b[0mli\u001b[0m\u001b[1;33m[\u001b[0m\u001b[1;36m1.2\u001b[0m\u001b[1;33m]\u001b[0m\u001b[1;33m)\u001b[0m\u001b[1;31m#if we pass floating value then we will get Type error\u001b[0m\u001b[1;33m\u001b[0m\u001b[1;33m\u001b[0m\u001b[0m\n\u001b[0m",
      "\u001b[1;31mTypeError\u001b[0m: list indices must be integers or slices, not float"
     ]
    }
   ],
   "source": [
    "print(li[1.2])#if we pass floating value then we will get Type error"
   ]
  },
  {
   "cell_type": "code",
   "execution_count": 13,
   "metadata": {},
   "outputs": [
    {
     "name": "stdout",
     "output_type": "stream",
     "text": [
      "[1] [1, 2] [1, 2] [1, 2, 5, 4, 8, 85]\n"
     ]
    }
   ],
   "source": [
    "print(li[0:1],li[0:2],li[:2],li[0:])"
   ]
  },
  {
   "cell_type": "code",
   "execution_count": 15,
   "metadata": {},
   "outputs": [
    {
     "name": "stdout",
     "output_type": "stream",
     "text": [
      "[8, 85]\n"
     ]
    }
   ],
   "source": [
    "print(li[-2:])"
   ]
  },
  {
   "cell_type": "code",
   "execution_count": 16,
   "metadata": {},
   "outputs": [
    {
     "name": "stdout",
     "output_type": "stream",
     "text": [
      "[85, 8, 4]\n"
     ]
    }
   ],
   "source": [
    "print(li[:  2:-1])"
   ]
  },
  {
   "cell_type": "code",
   "execution_count": 17,
   "metadata": {},
   "outputs": [
    {
     "name": "stdout",
     "output_type": "stream",
     "text": [
      "[1, 5, 8]\n"
     ]
    }
   ],
   "source": [
    "print(li[: :2])"
   ]
  },
  {
   "cell_type": "code",
   "execution_count": 18,
   "metadata": {},
   "outputs": [
    {
     "name": "stdout",
     "output_type": "stream",
     "text": [
      "[85, 4, 2]\n"
     ]
    }
   ],
   "source": [
    "print(li[: :-2])"
   ]
  },
  {
   "cell_type": "code",
   "execution_count": 19,
   "metadata": {},
   "outputs": [
    {
     "name": "stdout",
     "output_type": "stream",
     "text": [
      "7\n"
     ]
    }
   ],
   "source": [
    "li2 = [1,2,5,4,8,85,'python']\n",
    "print(len(li2))"
   ]
  },
  {
   "cell_type": "code",
   "execution_count": 20,
   "metadata": {},
   "outputs": [
    {
     "name": "stdout",
     "output_type": "stream",
     "text": [
      "1 85\n"
     ]
    }
   ],
   "source": [
    "print(li2[0],li2[5])"
   ]
  },
  {
   "cell_type": "code",
   "execution_count": 21,
   "metadata": {},
   "outputs": [
    {
     "name": "stdout",
     "output_type": "stream",
     "text": [
      "python 8\n"
     ]
    }
   ],
   "source": [
    "print(li2[-1],li[-2])"
   ]
  },
  {
   "cell_type": "code",
   "execution_count": 25,
   "metadata": {},
   "outputs": [
    {
     "name": "stdout",
     "output_type": "stream",
     "text": [
      "PYTHON\n"
     ]
    }
   ],
   "source": [
    "print(li2[-1].upper())"
   ]
  },
  {
   "cell_type": "code",
   "execution_count": 26,
   "metadata": {},
   "outputs": [
    {
     "name": "stdout",
     "output_type": "stream",
     "text": [
      "python\n"
     ]
    }
   ],
   "source": [
    "print(li2[-1].strip())"
   ]
  },
  {
   "cell_type": "code",
   "execution_count": 28,
   "metadata": {},
   "outputs": [
    {
     "name": "stdout",
     "output_type": "stream",
     "text": [
      "[1, 2, 5, 4, 8] [1, 2, 5, 4, 8]\n"
     ]
    }
   ],
   "source": [
    "print(li[0:5],li2[ :5])"
   ]
  },
  {
   "cell_type": "code",
   "execution_count": 29,
   "metadata": {},
   "outputs": [
    {
     "name": "stdout",
     "output_type": "stream",
     "text": [
      "[8, 85, 'python']\n"
     ]
    }
   ],
   "source": [
    "print(li2[-3:])"
   ]
  },
  {
   "cell_type": "code",
   "execution_count": 30,
   "metadata": {},
   "outputs": [
    {
     "name": "stdout",
     "output_type": "stream",
     "text": [
      "[1, 5, 8, 'python']\n"
     ]
    }
   ],
   "source": [
    "print(li2[0: :2]) #prints every second element"
   ]
  },
  {
   "cell_type": "code",
   "execution_count": 31,
   "metadata": {},
   "outputs": [
    {
     "name": "stdout",
     "output_type": "stream",
     "text": [
      "['python', 8, 5, 1]\n"
     ]
    }
   ],
   "source": [
    "print(li2[: :-2])"
   ]
  },
  {
   "cell_type": "code",
   "execution_count": 32,
   "metadata": {},
   "outputs": [
    {
     "name": "stdout",
     "output_type": "stream",
     "text": [
      "[[1, 2, 3], [4, 5, 6], [6, 7, 8]]\n"
     ]
    }
   ],
   "source": [
    "matrix=[[1,2,3],[4,5,6],[6,7,8,]]\n",
    "print(matrix)"
   ]
  },
  {
   "cell_type": "code",
   "execution_count": 34,
   "metadata": {},
   "outputs": [
    {
     "name": "stdout",
     "output_type": "stream",
     "text": [
      "1\n"
     ]
    }
   ],
   "source": [
    "print(matrix[0][0])"
   ]
  },
  {
   "cell_type": "code",
   "execution_count": 35,
   "metadata": {},
   "outputs": [
    {
     "name": "stdout",
     "output_type": "stream",
     "text": [
      "5\n"
     ]
    }
   ],
   "source": [
    "print(matrix[1][1])"
   ]
  },
  {
   "cell_type": "code",
   "execution_count": 36,
   "metadata": {},
   "outputs": [
    {
     "name": "stdout",
     "output_type": "stream",
     "text": [
      "[2, 3]\n"
     ]
    }
   ],
   "source": [
    "print(matrix[0][-2:])"
   ]
  },
  {
   "cell_type": "code",
   "execution_count": 37,
   "metadata": {},
   "outputs": [
    {
     "name": "stdout",
     "output_type": "stream",
     "text": [
      "[6, 5, 4]\n"
     ]
    }
   ],
   "source": [
    "print(matrix[1][::-1])"
   ]
  },
  {
   "cell_type": "code",
   "execution_count": 39,
   "metadata": {},
   "outputs": [
    {
     "name": "stdout",
     "output_type": "stream",
     "text": [
      "3 8\n"
     ]
    }
   ],
   "source": [
    "print(len(matrix[2]),max(matrix[2]))"
   ]
  },
  {
   "cell_type": "code",
   "execution_count": 40,
   "metadata": {},
   "outputs": [
    {
     "data": {
      "text/plain": [
       "[[1, 2, 3], [4, 5, 6], [6, 7, 8]]"
      ]
     },
     "execution_count": 40,
     "metadata": {},
     "output_type": "execute_result"
    }
   ],
   "source": [
    "matrix"
   ]
  },
  {
   "cell_type": "code",
   "execution_count": 41,
   "metadata": {},
   "outputs": [
    {
     "name": "stdout",
     "output_type": "stream",
     "text": [
      "[1, 2, 3]\n",
      "[4, 5, 6]\n",
      "[6, 7, 8]\n"
     ]
    }
   ],
   "source": [
    "for ele in matrix:\n",
    "    print(ele)"
   ]
  },
  {
   "cell_type": "code",
   "execution_count": 42,
   "metadata": {},
   "outputs": [
    {
     "name": "stdout",
     "output_type": "stream",
     "text": [
      "2\n",
      "5\n",
      "7\n"
     ]
    }
   ],
   "source": [
    "for ele in matrix:\n",
    "    print(ele[1])"
   ]
  },
  {
   "cell_type": "code",
   "execution_count": 43,
   "metadata": {},
   "outputs": [
    {
     "name": "stdout",
     "output_type": "stream",
     "text": [
      "[4, 5, 6]\n"
     ]
    }
   ],
   "source": [
    "print(matrix[:][1])"
   ]
  },
  {
   "cell_type": "code",
   "execution_count": 44,
   "metadata": {},
   "outputs": [
    {
     "name": "stdout",
     "output_type": "stream",
     "text": [
      "[[1, 2, 3], [4, 5, 6], [6, 7, 8]] [6, 7, 8]\n"
     ]
    }
   ],
   "source": [
    "print(matrix[:],matrix[:][2])"
   ]
  },
  {
   "cell_type": "code",
   "execution_count": 45,
   "metadata": {},
   "outputs": [
    {
     "name": "stdout",
     "output_type": "stream",
     "text": [
      "[2, 3]\n",
      "[5, 6]\n",
      "[7, 8]\n",
      "2 3\n",
      "5 6\n",
      "7 8\n"
     ]
    }
   ],
   "source": [
    "for ele in matrix:\n",
    "    print(ele[1:])\n",
    "for ele in matrix:\n",
    "    print(ele[1],ele[2])"
   ]
  },
  {
   "cell_type": "code",
   "execution_count": 46,
   "metadata": {},
   "outputs": [],
   "source": [
    "empty=[]"
   ]
  },
  {
   "cell_type": "code",
   "execution_count": 47,
   "metadata": {},
   "outputs": [
    {
     "name": "stdout",
     "output_type": "stream",
     "text": [
      "[5, 55, [1, 2, 3]]\n"
     ]
    }
   ],
   "source": [
    "empty.append(5)\n",
    "empty.append(55)\n",
    "empty.append([1,2,3])\n",
    "print(empty)"
   ]
  },
  {
   "cell_type": "code",
   "execution_count": 48,
   "metadata": {},
   "outputs": [
    {
     "name": "stdout",
     "output_type": "stream",
     "text": [
      "Enter elements to add to list:4\n",
      "Enter elements to add to list:56\n",
      "Enter elements to add to list:43\n",
      "Enter elements to add to list:5\n",
      "Enter elements to add to list:3\n"
     ]
    }
   ],
   "source": [
    "for i in range(5):\n",
    "    empty.append(input(\"Enter elements to add to list:\"))"
   ]
  },
  {
   "cell_type": "code",
   "execution_count": 49,
   "metadata": {},
   "outputs": [
    {
     "name": "stdout",
     "output_type": "stream",
     "text": [
      "[5, 55, [1, 2, 3], '4', '56', '43', '5', '3']\n"
     ]
    }
   ],
   "source": [
    " print(empty)"
   ]
  },
  {
   "cell_type": "code",
   "execution_count": null,
   "metadata": {},
   "outputs": [],
   "source": [
    "a=['a']\n",
    "for i in a:\n",
    "    a.append(i.upper())\n",
    "print(a)"
   ]
  },
  {
   "cell_type": "code",
   "execution_count": 51,
   "metadata": {},
   "outputs": [
    {
     "name": "stdout",
     "output_type": "stream",
     "text": [
      "[3, 5, 6, 42, 69, 325, 423]\n"
     ]
    }
   ],
   "source": [
    "li3=[5,6,3,42,423,69,325]\n",
    "li3.sort()\n",
    "print(li3)"
   ]
  },
  {
   "cell_type": "markdown",
   "metadata": {},
   "source": [
    "## Tuples\n",
    "\n",
    "- Storing the group of non-homogeneous group of data\n",
    "- Is created using()\n",
    "- It is immutable\n",
    "- It is iterable\n",
    "- it is ordered"
   ]
  },
  {
   "cell_type": "code",
   "execution_count": 60,
   "metadata": {},
   "outputs": [],
   "source": [
    "t1=()\n",
    "t2=tuple()"
   ]
  },
  {
   "cell_type": "code",
   "execution_count": 61,
   "metadata": {},
   "outputs": [
    {
     "name": "stdout",
     "output_type": "stream",
     "text": [
      "1 [1, 2, 3] 3 (1, 2, 3)\n",
      "6\n"
     ]
    }
   ],
   "source": [
    "t1=(1,2,3,'Python',(1,2,3),[1,2,3])\n",
    "print(t1[0],t1[-1],t1[2],t1[-2])\n",
    "print(len(t1))"
   ]
  },
  {
   "cell_type": "code",
   "execution_count": 62,
   "metadata": {},
   "outputs": [
    {
     "name": "stdout",
     "output_type": "stream",
     "text": [
      "1 [1, 2, 3] 3 (1, 2, 3)\n"
     ]
    }
   ],
   "source": [
    "print(t1[0],t1[-1],t1[2],t1[-2])"
   ]
  },
  {
   "cell_type": "code",
   "execution_count": 63,
   "metadata": {},
   "outputs": [
    {
     "name": "stdout",
     "output_type": "stream",
     "text": [
      "1\n"
     ]
    }
   ],
   "source": [
    "print(t1.count(1))\n"
   ]
  },
  {
   "cell_type": "code",
   "execution_count": 64,
   "metadata": {},
   "outputs": [
    {
     "ename": "ValueError",
     "evalue": "tuple.index(x): x not in tuple",
     "output_type": "error",
     "traceback": [
      "\u001b[1;31m---------------------------------------------------------------------------\u001b[0m",
      "\u001b[1;31mValueError\u001b[0m                                Traceback (most recent call last)",
      "\u001b[1;32m<ipython-input-64-f375eef3365d>\u001b[0m in \u001b[0;36m<module>\u001b[1;34m\u001b[0m\n\u001b[1;32m----> 1\u001b[1;33m \u001b[0mprint\u001b[0m\u001b[1;33m(\u001b[0m\u001b[0mt1\u001b[0m\u001b[1;33m.\u001b[0m\u001b[0mindex\u001b[0m\u001b[1;33m(\u001b[0m\u001b[1;34m'python'\u001b[0m\u001b[1;33m)\u001b[0m\u001b[1;33m)\u001b[0m\u001b[1;33m\u001b[0m\u001b[1;33m\u001b[0m\u001b[0m\n\u001b[0m",
      "\u001b[1;31mValueError\u001b[0m: tuple.index(x): x not in tuple"
     ]
    }
   ],
   "source": [
    "print(t1.index('python'))"
   ]
  },
  {
   "cell_type": "markdown",
   "metadata": {},
   "source": [
    "### Sets \n",
    "- It is used for storing non-homogeneous group of unique data on python\n",
    "\n",
    "\n",
    "### Properties\n",
    "- `{}` for storing the data comma seperated \n",
    "- it is mutable datatype\n",
    "- It is unordered\n",
    "- we cannot acess the data using indexing method\n",
    "- it is iteratable\n",
    "- it does not allow duplicate data\n"
   ]
  },
  {
   "cell_type": "code",
   "execution_count": 1,
   "metadata": {},
   "outputs": [
    {
     "name": "stdout",
     "output_type": "stream",
     "text": [
      "<class 'set'>\n"
     ]
    }
   ],
   "source": [
    "s1=set()\n",
    "print(type(s1))"
   ]
  },
  {
   "cell_type": "code",
   "execution_count": 2,
   "metadata": {},
   "outputs": [
    {
     "name": "stdout",
     "output_type": "stream",
     "text": [
      "<class 'set'>\n"
     ]
    }
   ],
   "source": [
    "s1={2,1,5,6,'apssdc','python',2.55,56,0.26,0.10}\n",
    "print(type(s1))"
   ]
  },
  {
   "cell_type": "code",
   "execution_count": 3,
   "metadata": {},
   "outputs": [
    {
     "name": "stdout",
     "output_type": "stream",
     "text": [
      "{0.26, 1, 2, 2.55, 0.1, 5, 6, 'python', 56, 'apssdc'}\n"
     ]
    }
   ],
   "source": [
    "print(s1)"
   ]
  },
  {
   "cell_type": "code",
   "execution_count": 4,
   "metadata": {},
   "outputs": [
    {
     "name": "stdout",
     "output_type": "stream",
     "text": [
      "{8, 25, 4}\n"
     ]
    }
   ],
   "source": [
    "s2={4,8,4,25,8}\n",
    "print(s2)"
   ]
  },
  {
   "cell_type": "code",
   "execution_count": 5,
   "metadata": {},
   "outputs": [],
   "source": [
    "st='''Python is an interpreted high-level general-purpose programming language. Python's design philosophy emphasizes code readability with its notable use of significant indentation. Wikipedia\n",
    "Developer: Python Software Foundation\n",
    "Stable release: 3.9.5 / 3 May 2021; 29 days ago\n",
    "Preview release: 3.10.0b1 / 3 May 2021; 29 days ago\n",
    "Typing discipline: Duck, dynamic, strong typing; gradual (since 3.5, but ignored in CPython)\n",
    "First appeared: February 1991; 30 years ago\n",
    "Paradigm: Multi-paradigm: object-oriented, procedural (imperative), functional, structured, reflective'''\n"
   ]
  },
  {
   "cell_type": "code",
   "execution_count": 9,
   "metadata": {},
   "outputs": [
    {
     "name": "stdout",
     "output_type": "stream",
     "text": [
      "{'P': 6, 'y': 15, 't': 28, 'h': 10, 'o': 25, 'n': 29, ' ': 67, 'i': 39, 's': 20, 'a': 38, 'e': 48, 'r': 29, 'p': 17, 'd': 19, 'g': 18, '-': 4, 'l': 17, 'v': 5, 'u': 13, 'm': 7, '.': 7, \"'\": 1, 'z': 1, 'c': 11, 'b': 7, 'w': 3, 'f': 5, 'W': 1, 'k': 2, '\\n': 6, 'D': 2, ':': 7, 'S': 2, 'F': 3, '3': 6, '9': 5, '5': 2, '/': 2, 'M': 3, '2': 6, '0': 5, '1': 6, ';': 4, 'T': 1, ',': 7, '(': 2, 'C': 1, ')': 2, 'j': 1}\n"
     ]
    }
   ],
   "source": [
    "c={}\n",
    "for char in st:\n",
    "    c[char]=st.count(char)\n",
    "    \n",
    "print(c)"
   ]
  },
  {
   "cell_type": "code",
   "execution_count": 11,
   "metadata": {},
   "outputs": [
    {
     "name": "stdout",
     "output_type": "stream",
     "text": [
      "565\n"
     ]
    }
   ],
   "source": [
    "print(len(st))"
   ]
  },
  {
   "cell_type": "code",
   "execution_count": 12,
   "metadata": {},
   "outputs": [
    {
     "name": "stdout",
     "output_type": "stream",
     "text": [
      "{'v', 'p', 'c', '5', 'a', 'j', 'k', '3', 'P', 'i', 't', '-', '0', 'z', ':', ';', 'S', '\\n', '2', '(', 'o', 'D', 'F', 'b', 'r', 'y', ')', 'T', '.', 'M', 'm', 'W', 'e', ' ', 'h', 'w', \"'\", 'n', '1', 'C', '9', 'd', 'f', 'l', ',', 'g', 'u', 's', '/'}\n"
     ]
    }
   ],
   "source": [
    "s3=set(st)\n",
    "\n",
    "print(s3)"
   ]
  },
  {
   "cell_type": "code",
   "execution_count": null,
   "metadata": {},
   "outputs": [],
   "source": []
  }
 ],
 "metadata": {
  "kernelspec": {
   "display_name": "Python 3",
   "language": "python",
   "name": "python3"
  },
  "language_info": {
   "codemirror_mode": {
    "name": "ipython",
    "version": 3
   },
   "file_extension": ".py",
   "mimetype": "text/x-python",
   "name": "python",
   "nbconvert_exporter": "python",
   "pygments_lexer": "ipython3",
   "version": "3.7.3"
  }
 },
 "nbformat": 4,
 "nbformat_minor": 2
}
